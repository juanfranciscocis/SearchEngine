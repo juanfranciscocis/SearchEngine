{
 "cells": [
  {
   "cell_type": "markdown",
   "source": [
    "# Hola chicos, este es el decorador que vamos a usar TODOS para calcular el runtime, porfis utilizen este"
   ],
   "metadata": {
    "collapsed": false,
    "pycharm": {
     "name": "#%% md\n"
    }
   }
  },
  {
   "cell_type": "code",
   "execution_count": 46,
   "outputs": [],
   "source": [
    "import time\n",
    "def timer_func(func):\n",
    "    # This function shows the execution time of\n",
    "    # the function object passed\n",
    "    def wrap_func(*args, **kwargs):\n",
    "        t1 = time.time()*10**12\n",
    "        result = func(*args, **kwargs)\n",
    "        t2 = time.time()*10**12\n",
    "        return result , t2-t1\n",
    "    return wrap_func"
   ],
   "metadata": {
    "collapsed": false,
    "pycharm": {
     "name": "#%%\n"
    }
   }
  },
  {
   "cell_type": "markdown",
   "source": [
    "# EL ARCHIVO FINAL_PROGRAM.PY ES UN PRIMER AVANCE DEL PROGRAMA, AUN NO ESTA TERMINADO, PUEDEN PROBAR EL CODIGO\n",
    "# HUGE TEXT EXAMPLE ES EL ARCHIVO DE TEXTO QUE VAMOS A USAR PARA BUSCAR LAS PALABRAS, AQUI ABAJO TIENEN UN ARRAY CON LAS PALABRAS QUE VAMOS A BUSCAR Y EL COMO CARGAR EL TEXTO EN SUS NOTEBOOKS"
   ],
   "metadata": {
    "collapsed": false,
    "pycharm": {
     "name": "#%% md\n"
    }
   }
  },
  {
   "cell_type": "code",
   "execution_count": 47,
   "outputs": [],
   "source": [
    "with open('huge_txt_example.txt', 'r') as file:\n",
    "    data = file.read()\n",
    "\n",
    "#data to lowercase\n",
    "data = data.lower()\n",
    "\n",
    "#la variable data les retorna un string enorme, es todo el txt cargado\n",
    "\n",
    "#porfas vean el codigo de mi carpeta Juan francisco o el de la paulita\n",
    "# ahi tienen dos ejemplos buenos para que solo implementen sus algoritmos"
   ],
   "metadata": {
    "collapsed": false,
    "pycharm": {
     "name": "#%%\n"
    }
   }
  },
  {
   "cell_type": "code",
   "execution_count": 48,
   "outputs": [],
   "source": [
    "wordSearchList = ['dui','aliquam','habitant','neque','nunc','commodo','libero','nulla','sapien','suscipit','viverra','mauris','nibh','nisi','nisl','nunc','odio','orci','ornare','pellentesque','pharetra','placerat','porta','porttitor','posuere','potenti','praesent','pretium','proin','pulvinar','purus','quam','quis','quisque','rhoncus','risus','rutrum','sagittis','sapien','scelerisque','sed','sem','semper','senectus','sit','sociis','sociosqu','sodales','sollicitudin','suscipit','suspendisse','taciti','tellus','tempor','tempus','tincidunt','torquent','tortor','tristique','turpis','ullamcorper','ultrices','ultricies','urna','ut','varius','vehicula','vel','velit','venenatis','vestibulum','vitae','vivamus','viverra','volutpat','vulputate']"
   ],
   "metadata": {
    "collapsed": false,
    "pycharm": {
     "name": "#%%\n"
    }
   }
  },
  {
   "cell_type": "markdown",
   "source": [
    "# ESTAS PALABRAS DEBEN USARLAS PARA CALCULAR SUS RUNTIMES"
   ],
   "metadata": {
    "collapsed": false,
    "pycharm": {
     "name": "#%% md\n"
    }
   }
  },
  {
   "cell_type": "markdown",
   "source": [
    "# FINALMENTE RECUERDEN SIEMPRE HACER UN PULL ANTES DE REALIZAR SUS AVANCES PARA ESTAR COORDINADOS UNOS CON OTROS"
   ],
   "metadata": {
    "collapsed": false,
    "pycharm": {
     "name": "#%% md\n"
    }
   }
  },
  {
   "cell_type": "markdown",
   "source": [
    "# LEYENDO EL TXT CON EL TEXTO"
   ],
   "metadata": {
    "collapsed": false,
    "pycharm": {
     "name": "#%% md\n"
    }
   }
  },
  {
   "cell_type": "code",
   "execution_count": 49,
   "outputs": [],
   "source": [
    "with open('huge_txt_example.txt', 'r') as file:\n",
    "    data = file.read()\n",
    "\n",
    "#data to lowercase\n",
    "data = data.lower()\n",
    "document = data.split(\" \")"
   ],
   "metadata": {
    "collapsed": false,
    "pycharm": {
     "name": "#%%\n"
    }
   }
  },
  {
   "cell_type": "markdown",
   "source": [
    "# COMPARACION LINEAR SEARCH V.S BOYER-MOORE"
   ],
   "metadata": {
    "collapsed": false,
    "pycharm": {
     "name": "#%% md\n"
    }
   }
  },
  {
   "cell_type": "code",
   "execution_count": 50,
   "outputs": [],
   "source": [
    "NO_OF_CHARS = 256\n",
    "\n",
    "def badCharHeuristic(string, size):\n",
    "\tbadChar = [-1]*NO_OF_CHARS\n",
    "\n",
    "\tfor i in range(size):\n",
    "\t\tbadChar[ord(string[i])] = i;\n",
    "\n",
    "\treturn badChar\n",
    "\n",
    "@timer_func\n",
    "def boyer_moore_search(txt, pat):\n",
    "\n",
    "\tpatternFound = []\n",
    "\n",
    "\tm = len(pat)\n",
    "\tn = len(txt)\n",
    "\n",
    "\tbadChar = badCharHeuristic(pat, m)\n",
    "\n",
    "\ts = 0\n",
    "\twhile(s <= n-m):\n",
    "\t\tj = m-1\n",
    "\n",
    "\t\twhile j>=0 and pat[j] == txt[s+j]:\n",
    "\t\t\tj -= 1\n",
    "\n",
    "\t\tif j<0:\n",
    "\t\t\t#print(\"Pattern occur at shift = {}\".format(s))\n",
    "\t\t\tpatternFound.append(s)\n",
    "\t\t\ts += (m-badChar[ord(txt[s+m])] if s+m<n else 1)\n",
    "\t\telse:\n",
    "\t\t\ts += max(1, j-badChar[ord(txt[s+j])])\n",
    "\n",
    "\n",
    "\treturn patternFound"
   ],
   "metadata": {
    "collapsed": false,
    "pycharm": {
     "name": "#%%\n"
    }
   }
  },
  {
   "cell_type": "code",
   "execution_count": 51,
   "outputs": [],
   "source": [
    "@timer_func\n",
    "def Linear_search(arr, x):\n",
    "    foundedWords = []\n",
    "    for i in range(len(arr)):\n",
    "        if arr[i] == x:\n",
    "            foundedWords.append(i)\n",
    "    if len(foundedWords) == 0:\n",
    "        return \"Not Found\"\n",
    "    return foundedWords"
   ],
   "metadata": {
    "collapsed": false,
    "pycharm": {
     "name": "#%%\n"
    }
   }
  },
  {
   "cell_type": "code",
   "execution_count": 52,
   "outputs": [],
   "source": [
    "\n",
    "runtimeBOYER = []\n",
    "for i in wordSearchList:\n",
    "\t#print('Searching for: ',i)\n",
    "\tsearch = boyer_moore_search(data,i)\n",
    "\truntimeBOYER.append(search[1])"
   ],
   "metadata": {
    "collapsed": false,
    "pycharm": {
     "name": "#%%\n"
    }
   }
  },
  {
   "cell_type": "code",
   "execution_count": 53,
   "outputs": [],
   "source": [
    "runtime = []\n",
    "for i in wordSearchList:\n",
    "\tsearch = Linear_search(document,i)\n",
    "\truntime.append(search[1])"
   ],
   "metadata": {
    "collapsed": false,
    "pycharm": {
     "name": "#%%\n"
    }
   }
  },
  {
   "cell_type": "code",
   "execution_count": 54,
   "outputs": [
    {
     "data": {
      "text/plain": "<AxesSubplot: >"
     },
     "execution_count": 54,
     "metadata": {},
     "output_type": "execute_result"
    },
    {
     "data": {
      "text/plain": "<Figure size 640x480 with 1 Axes>",
      "image/png": "[encoded data removed]"
     },
     "metadata": {},
     "output_type": "display_data"
    }
   ],
   "source": [
    "import pandas as pd\n",
    "import matplotlib.pyplot as plt\n",
    "\n",
    "df = pd.DataFrame(zip(runtimeBOYER,runtime))  #DEFINE THE DATA FRAME\n",
    "df.columns = ['T(n) Boyer-Moore', 'T(n) Linear-Search']\n",
    "df\n",
    "df.plot()"
   ],
   "metadata": {
    "collapsed": false,
    "pycharm": {
     "name": "#%%\n"
    }
   }
  },
  {
   "cell_type": "code",
   "execution_count": 54,
   "outputs": [],
   "source": [],
   "metadata": {
    "collapsed": false,
    "pycharm": {
     "name": "#%%\n"
    }
   }
  }
 ],
 "metadata": {
  "kernelspec": {
   "display_name": "Python 3",
   "language": "python",
   "name": "python3"
  },
  "language_info": {
   "codemirror_mode": {
    "name": "ipython",
    "version": 2
   },
   "file_extension": ".py",
   "mimetype": "text/x-python",
   "name": "python",
   "nbconvert_exporter": "python",
   "pygments_lexer": "ipython2",
   "version": "2.7.6"
  }
 },
 "nbformat": 4,
 "nbformat_minor": 0
}