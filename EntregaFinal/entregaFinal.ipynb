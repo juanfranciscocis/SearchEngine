{
 "cells": [
  {
   "cell_type": "markdown",
   "source": [
    "# Comparación a través de performance de algoritmos de búsqueda\n",
    "\n",
    "\n",
    "\n",
    "### Paula Campaña Donoso (00215572)\n",
    "### Juan Francisco Cisneros (00323665)\n",
    "### Randall Mencias (00321469)\n",
    "### Juan Diego Venegas (00209856)\n",
    "\n",
    "\n",
    "\n",
    "#### NRC: 2075\n",
    "\n",
    "## Descripción:\n",
    "Para nuestro proyecto la idea sería implementar la función command F o control F que existe en los editores de texto de hoy en día. Para esto, programaríamos y compararíamos diferentes algoritmos de busqueda y encontraríamos cual de todos es el más eficiente, el mismo se utilizaría para la implementación del programa. Utilizaríamos un documento en terminación TXT para que los algoritmos puedan leer este bloque de texto y encuentre así la palabra que se pida buscar.\n",
    "\n",
    "## Temas que aplican a estructuras de datos y algoritmos:\n",
    "Para esta idea de proyecto se utilizarán los siguientes temas:\n",
    "- Linear Search: este algoritmo de busqueda fue enseñado en clase y es un algoritmo de búsqueda de fuerza bruta, lo que utilizaríamos como base para comparar con otros algoritmos.\n",
    "- Boyer-Moore Search\n",
    "- KMP\n",
    "- Rabin Karp Algorithm\n",
    "- Decorador de runtime para medir la eficiencia de cada algoritmo (runtime y uso de memoria)\n"
   ],
   "metadata": {
    "collapsed": false,
    "pycharm": {
     "name": "#%% md\n"
    }
   }
  },
  {
   "cell_type": "code",
   "execution_count": 14,
   "outputs": [],
   "source": [
    "import time\n",
    "def timer_func(func):\n",
    "    # This function shows the execution time of\n",
    "    # the function object passed\n",
    "    def wrap_func(*args, **kwargs):\n",
    "        t1 = time.time()*10**12\n",
    "        result = func(*args, **kwargs)\n",
    "        t2 = time.time()*10**12\n",
    "        return result , t2-t1\n",
    "    return wrap_func"
   ],
   "metadata": {
    "collapsed": false,
    "pycharm": {
     "name": "#%%\n"
    }
   }
  },
  {
   "cell_type": "code",
   "execution_count": 15,
   "outputs": [],
   "source": [
    "wordSearchList = ['dui','aliquam','habitant','neque','nunc','commodo','libero','nulla','sapien','suscipit','viverra','mauris','nibh','nisi','nisl','nunc','odio','orci','ornare','pellentesque','pharetra','placerat','porta','porttitor','posuere','potenti','praesent','pretium','proin','pulvinar','purus','quam','quis','quisque','rhoncus','risus','rutrum','sagittis','sapien','scelerisque','sed','sem','semper','senectus','sit','sociis','sociosqu','sodales','sollicitudin','suscipit','suspendisse','taciti','tellus','tempor','tempus','tincidunt','torquent','tortor','tristique','turpis','ullamcorper','ultrices','ultricies','urna','ut','varius','vehicula','vel','velit','venenatis','vestibulum','vitae','vivamus','viverra','volutpat','vulputate']"
   ],
   "metadata": {
    "collapsed": false,
    "pycharm": {
     "name": "#%%\n"
    }
   }
  },
  {
   "cell_type": "markdown",
   "source": [
    "# LEYENDO EL TXT CON EL TEXTO"
   ],
   "metadata": {
    "collapsed": false,
    "pycharm": {
     "name": "#%% md\n"
    }
   }
  },
  {
   "cell_type": "code",
   "execution_count": 16,
   "outputs": [],
   "source": [
    "with open('huge_txt_example.txt', 'r') as file:\n",
    "    data = file.read()\n",
    "\n",
    "#data to lowercase\n",
    "data = data.lower()\n",
    "document = data.split(\" \")"
   ],
   "metadata": {
    "collapsed": false,
    "pycharm": {
     "name": "#%%\n"
    }
   }
  },
  {
   "cell_type": "markdown",
   "source": [
    "### LINEAR SEARCH ALGORITHM"
   ],
   "metadata": {
    "collapsed": false,
    "pycharm": {
     "name": "#%% md\n"
    }
   }
  },
  {
   "cell_type": "markdown",
   "source": [
    "La funcion de busqueda de Linear Search busca la palabra que se le indica como manera directa, a lo que se refiere con esto es que busca palabras que sean iguales a la que se registro como opcion de busqueda. Para esto en el texto se establece una variable wordFind, ademas se inicializa un arreglo llamado posicion donde guardara la posicion dentro del texto de la palabra que se busco previamente en el texto. Luego se hace un lazo for que recorre todo el texto y busca la palabra que se le indico, si la encuentra la agrega al arreglo posicion y si no la encuentra no hace nada. Ademas dentro del lazo for se encuentra un if, este if me permite agregar al arreglo posicion las posiciones de palabras que sean iguales, es decir, si busca en mi texto la palabra \"decir\" y esta palabra se repite varias veces, entonces todas esas posiciones se guardan en el arreglo posicion. Al final de la funcion se retorna el arreglo posicion que contiene las posiciones de la palabra que se busco en el texto. Tambien se utiliza un decorador de tiempo para calcular el tiempo de ejecución de la funcion Linear Search. Para guardar todos estos tiempos cree un arreglo llamado runtimeLinearSearch donde se guardan los tiempos de ejecución de la funcion Linear Search."
   ],
   "metadata": {
    "collapsed": false,
    "pycharm": {
     "name": "#%% md\n"
    }
   }
  },
  {
   "cell_type": "code",
   "execution_count": 17,
   "outputs": [],
   "source": [
    "@timer_func\n",
    "def Linear_search(text, wordFind):\n",
    "    positions = []\n",
    "    for i in range(len(text)):\n",
    "        if text[i:i+len(wordFind)] == wordFind:\n",
    "            positions.append(i)\n",
    "\n",
    "    return positions"
   ],
   "metadata": {
    "collapsed": false,
    "pycharm": {
     "name": "#%%\n"
    }
   }
  },
  {
   "cell_type": "markdown",
   "source": [
    "La complejidad de mi funcion Linear Search es O(n) ya que recorre todo el texto para buscar la palabra que se le indico. El mejor caso seria que encontrara la palabra en la posicion inicial, sin embargo, como es un texto largo la palabra puede repetirse lo que hace que la funcion Linear Search si sea de complejidad O(n). Por ultimo el uso de memoria de mi funcion Linear Search es O(1) ya que no se crea ninguna variable nueva, solo se utiliza la variable wordFind y el arreglo posicion, que me permite encontrar la posicion de la palabra que se busco en el texto.\n",
    "\n",
    "Time complexity: O(n)\n",
    "Memory Space: O(1)"
   ],
   "metadata": {
    "collapsed": false,
    "pycharm": {
     "name": "#%% md\n"
    }
   }
  },
  {
   "cell_type": "markdown",
   "source": [
    "### RABIN KARP ALGORITHM"
   ],
   "metadata": {
    "collapsed": false,
    "pycharm": {
     "name": "#%% md\n"
    }
   }
  },
  {
   "cell_type": "markdown",
   "source": [
    "El algoritmo RK es un algoritmo de comparacion que consiste en recorrer el texto comparando el valor hash de una subcadena de texto especifica con el valor del hash de la cadena que se esta buscando (patron).\n",
    "\n",
    "Digamos que se tiene el siguiente texto:\n",
    "        $$ A\\ B\\  C\\  D\\  E\\  E\\  F\\  G\\  H\\  I $$\n",
    "y se quiere buscar $$E\\  F$$\n",
    "El algoritmo consiste en crear un window del mismo tamaño de la cadena que se quiere buscar, en este caso seria un window de 2.\\\n",
    "Se calcula el valor hash de el patron y de lo que se encuentre en la window, se compara el valor y en caso de que este sea diferente mueve a la window a la siguiente subcadena.\\\n",
    "Si se encuentra una situacion donde el valor hash de la subcadena en la window es igual al valor hash del patron, se compara caracter por caracter la subcadena con el patron hasta verificar que sea la  misma palabra.\n",
    "$$ $$\n",
    "Se puede dar el caso en que el valor hash del contenido de la window sea igual al valor hash del patron, pero las palabras no coinciden. Este tipo de situaciones incrementan la complejidad del algoritmo\n",
    "Para reducir la ocurrencia de esto, se usa el modulo de un numero primo"
   ],
   "metadata": {
    "collapsed": false,
    "pycharm": {
     "name": "#%% md\n"
    }
   }
  },
  {
   "cell_type": "code",
   "execution_count": 18,
   "outputs": [],
   "source": [
    "d = 256\n",
    "@timer_func\n",
    "def RKAlgorithm(txt, palabra):\n",
    "\t#array = []\n",
    "\tM = len(palabra)\n",
    "\tN = len(txt)\n",
    "\tq = 101\n",
    "\thashPattern = 0\n",
    "\thashText = 0\n",
    "\th = 1\n",
    "\tfor i in range(M - 1):\n",
    "\t\th = (h * d) % q\n",
    "\n",
    "\tfor i in range(M):  #hash de palabra y primera window\n",
    "\t\thashPattern = (d * hashPattern + ord(palabra[i])) % q\n",
    "\t\thashText = (d * hashText + ord(txt[i])) % q\n",
    "\n",
    "\tfor i in range(N - M + 1):  #recorrer el texto\n",
    "\t\tif hashPattern == hashText:  #si tienen el mismo hash\n",
    "\t\t\tfor j in range(M):  #comparacion caracter por caracter del substring en la window con la palabra\n",
    "\t\t\t\tif txt[i + j] != palabra[j]:\n",
    "\t\t\t\t\tbreak\n",
    "\t\t\t\telse:\n",
    "\t\t\t\t\tj += 1\n",
    "\t\t#if j == M:\n",
    "\t\t#   array.append(i)\n",
    "\n",
    "\t\tif i < N - M:  #hash de la siguiente ventana\n",
    "\t\t\thashText = (d * (hashText - ord(txt[i]) * h) + ord(txt[i + M])) % q\n",
    "\n",
    "#print(array)"
   ],
   "metadata": {
    "collapsed": false,
    "pycharm": {
     "name": "#%%\n"
    }
   }
  },
  {
   "cell_type": "markdown",
   "source": [
    "El peor caso O(nm) se da cuando el valor hash de cada substring en la window es igual al hash de la palabra que se esta buscando $$ txt= AAAAAAAAA$$ $$ palabra = AA $$\n",
    "El mejor caso, y el mas comun, es O(n+m), pues al encontrar dos hash iguales debe comparar la subsitring de la window con la de la palabra."
   ],
   "metadata": {
    "collapsed": false,
    "pycharm": {
     "name": "#%% md\n"
    }
   }
  },
  {
   "cell_type": "markdown",
   "source": [
    "### KMP SEARCH ALGORITHM"
   ],
   "metadata": {
    "collapsed": false,
    "pycharm": {
     "name": "#%% md\n"
    }
   }
  },
  {
   "cell_type": "markdown",
   "source": [
    "El KMP o Algoritmo de Knuth-Morris-Pratt se especializa en buscar patrones de caracteres basandose en fallos previos. Para cuantificar previos fallos utiliza lo que se llama una lista de mas largo patron\n",
    "\n",
    "Suffix Array crea esta lista utilizando el patron a buscar, la longitud del patron y un array para almacenar el resultado\n",
    "\n",
    "De manera mas facil busca patrones a evitar dentro de la busqueda"
   ],
   "metadata": {
    "collapsed": false,
    "pycharm": {
     "name": "#%% md\n"
    }
   }
  },
  {
   "cell_type": "markdown",
   "source": [
    "La creacion de la tabla tiene un tiempo de cracion dependiente al patron que se le entrega, como el patron que se le entrega siempre sera menor que la longitud del texto esta tiene una complejidad de $O(M)$, la tabla de igual manera ocupara un espacio de $O(M)$ ya que esta se llena siempre con la misma longitud que el patron de busqueda"
   ],
   "metadata": {
    "collapsed": false,
    "pycharm": {
     "name": "#%% md\n"
    }
   }
  },
  {
   "cell_type": "code",
   "execution_count": 19,
   "outputs": [],
   "source": [
    "def SuffixArray(search, M, suffix):\n",
    "\t'''\n",
    "\t:param search: Pattern to search\n",
    "\t:param M: Length of Pattern\n",
    "\t:param suffix: Empty array with M size\n",
    "\t:return:\n",
    "\tFills suffix with pattern\n",
    "\t'''\n",
    "\tlen = 0\n",
    "\tsuffix[0] = 0 # M size of memory\n",
    "\ti = 1\n",
    "\n",
    "\twhile i < M: #modifies list until M\n",
    "\t\tif search[i] == search[len]: #if i and i+1 are the same everything becomes +1\n",
    "\t\t\t#Compares the pattern between position [i] and [i+1]\n",
    "\t\t\tlen += 1\n",
    "\t\t\tsuffix[i] = len\n",
    "\t\t\ti += 1\n",
    "\t\telse:\n",
    "\t\t\tif len != 0: #compares in case there is a previous pattern\n",
    "\t\t\t\tlen = suffix[len - 1]\n",
    "\t\t\telse:\n",
    "\t\t\t\tsuffix[i] = 0 #fills the place with 0\n",
    "\t\t\t\ti += 1 #continues to transverse list"
   ],
   "metadata": {
    "collapsed": false,
    "pycharm": {
     "name": "#%%\n"
    }
   }
  },
  {
   "cell_type": "code",
   "execution_count": null,
   "outputs": [],
   "source": [
    "suf =[0]*5\n",
    "suf2  = [0]*17\n",
    "SuffixArray(\"Loren\",5,suf)\n",
    "print(suf)\n",
    "SuffixArray(\"Ipsum\",5,suf)\n",
    "print(suf)\n",
    "SuffixArray(\"loren loren ipsum\",17,suf2)\n",
    "print(suf2)\n",
    "#solo es utili cuando son patrones"
   ],
   "metadata": {
    "collapsed": false,
    "pycharm": {
     "name": "#%%\n"
    }
   }
  },
  {
   "cell_type": "code",
   "execution_count": null,
   "outputs": [],
   "source": [
    "@timer_func\n",
    "def KMPSearch(search, txt):\n",
    "\t'''\n",
    "\t:param search: pattern to search\n",
    "\t:param txt: Text to search\n",
    "\t:return: Index at which to return\n",
    "\t'''\n",
    "\tM = len(search)\n",
    "\tj = 0  # index for search\n",
    "\tindex = []\n",
    "\n",
    "\tN = len(txt)\n",
    "\ti = 0  # index for txt\n",
    "\n",
    "\tsuffix = [0] * M\n",
    "\n",
    "\t#Creates the comparison array\n",
    "\tSuffixArray(search, M, suffix)\n",
    "\n",
    "\twhile (N - i) >= (M - j):  #tranverses the whole text but skipping through repeated patterns\n",
    "\t\tif search[j] == txt[i]:  #brute force\n",
    "\t\t\ti += 1\n",
    "\t\t\tj += 1\n",
    "\n",
    "\t\tif j == M:  #case for when pattern reachs its end\n",
    "\t\t\tindex.append(i - j)  #saves placement\n",
    "\t\t\tj = suffix[j - 1]  #returns to second to last element\n",
    "\n",
    "\t\t# mismatch after j matches, returns to previous pattern\n",
    "\t\telif i < N and search[j] != txt[i]:\n",
    "\t\t\tif j != 0:\n",
    "\t\t\t\tj = suffix[j - 1]\n",
    "\t\t\telse:\n",
    "\t\t\t\ti += 1\n",
    "\t#print(\"Word found at: \", index)"
   ],
   "metadata": {
    "collapsed": false,
    "pycharm": {
     "name": "#%%\n"
    }
   }
  },
  {
   "cell_type": "markdown",
   "source": [
    "KMP search es utilizado para buscar un patron dentro de un texto, en su peor escenario este tendra que recorrer todo el texto sin encontrar un patron por lo que tendra de complejidad $O(n)$"
   ],
   "metadata": {
    "collapsed": false,
    "pycharm": {
     "name": "#%% md\n"
    }
   }
  },
  {
   "cell_type": "markdown",
   "source": [
    "Como el KMP utiliza ambos algoritmos para devolver un resultado se puede considerar que su complejidad se adhiere a la suma de ambas complejidades tambien descrito como $O(N + M)$, en cuanto a su espacio esta solo usa la memoria de la lista de prefijos (en este codigo se utiliza un array para almacenar las respuestas pero esto no es parte del algoritmo mas solo una conveniencia), por lo que su complejidad de momoria igual resulta en $O(M)$"
   ],
   "metadata": {
    "collapsed": false,
    "pycharm": {
     "name": "#%% md\n"
    }
   }
  },
  {
   "cell_type": "markdown",
   "source": [
    "El algoritmo de KMP esta escrito bajo la idea de la busqueda de patrones, esto significa que para busqueda de palabras es un algoritmo poco efieciente tanto en espacio como en tiempo al compararce contra el metodo de fuerza bruta. Sin embargo si este fuera utilizado para la busqueda de frases repetitivas ganaria mucho tiempo. Ademas la idea del KMP es la base de varios otros metodos de busqueda en el Algoritmo de Booth.\n",
    "\n",
    "En otras palabras el algoritmo de KMP no es un buen algoritmo de busquedas para textos reales pero su concepto puede ser expandido y mejorado en otros metodos de busqueda mas eficientes\n"
   ],
   "metadata": {
    "collapsed": false,
    "pycharm": {
     "name": "#%% md\n"
    }
   }
  },
  {
   "cell_type": "markdown",
   "source": [
    "### BOYER-MOORE STRING SEARCH ALGORITHM"
   ],
   "metadata": {
    "collapsed": false,
    "pycharm": {
     "name": "#%% md\n"
    }
   }
  },
  {
   "cell_type": "markdown",
   "source": [
    "La cadena-algoritmo de búsqueda de Boyer-Moore es un eficiente algoritmo de búsqueda de caracteres. Fue desarrollado por Robert S. Boyer y J Strother Moore en 1977.  El algoritmo preprocesa la cadena que se busca (el patrón), pero no la cadena en la que se busca (el texto). Por lo tanto, es adecuado para aplicaciones en las que el patrón es mucho más corto que el texto o donde persiste en múltiples búsquedas. En general, el algoritmo se ejecuta más rápido a medida que aumenta la longitud del patrón. Las características clave del algoritmo son hacer coincidir la cola del patrón en lugar de la cabeza, y saltar a lo largo del texto en saltos de varios caracteres en lugar de buscar todos los caracteres del texto. Tal como se muestra en el siguiente gif:\n"
   ],
   "metadata": {
    "collapsed": false,
    "pycharm": {
     "name": "#%% md\n"
    }
   }
  },
  {
   "cell_type": "markdown",
   "source": [
    "![SegmentLocal](boyerMoore.gif)"
   ],
   "metadata": {
    "collapsed": false,
    "pycharm": {
     "name": "#%% md\n"
    }
   }
  },
  {
   "cell_type": "markdown",
   "source": [
    "El algoritmo de Boyer-Moore busca apariciones de P en T realizando comparaciones explícitas de caracteres en diferentes alineaciones. El algoritmo comienza en la alineación k=n, Por lo que el inicio de P está alineado con el inicio de T . Los caracteres en P y T se comparan entonces comenzando en el índice n en P y K en T , se mueve hacia atrás. Las comparaciones continúan hasta que se alcanza el comienzo de P (lo que significa que hay una coincidencia) o se produce una falta de coincidencia en la que la alineación se desplaza hacia adelante (hacia la derecha) de acuerdo con el valor máximo permitido por una serie de reglas. Las comparaciones se realizan de nuevo en la nueva alineación y el proceso se repite hasta que la alineación se desplaza más allá del final de T\n"
   ],
   "metadata": {
    "collapsed": false,
    "pycharm": {
     "name": "#%% md\n"
    }
   }
  },
  {
   "cell_type": "code",
   "execution_count": null,
   "outputs": [],
   "source": [
    "NO_OF_CHARS = 256\n",
    "\n",
    "def badCharHeuristic(string, size):\n",
    "\tbadChar = [-1]*NO_OF_CHARS\n",
    "\n",
    "\tfor i in range(size):\n",
    "\t\tbadChar[ord(string[i])] = i;\n",
    "\n",
    "\treturn badChar\n",
    "\n",
    "@timer_func\n",
    "def boyer_moore_search(txt, pat):\n",
    "\n",
    "\tpatternFound = []\n",
    "\n",
    "\tm = len(pat)\n",
    "\tn = len(txt)\n",
    "\n",
    "\tbadChar = badCharHeuristic(pat, m)\n",
    "\n",
    "\ts = 0\n",
    "\twhile(s <= n-m):\n",
    "\t\tj = m-1\n",
    "\n",
    "\t\twhile j>=0 and pat[j] == txt[s+j]:\n",
    "\t\t\tj -= 1\n",
    "\n",
    "\t\tif j<0:\n",
    "\t\t\t#print(\"Pattern occur at shift = {}\".format(s))\n",
    "\t\t\tpatternFound.append(s)\n",
    "\t\t\ts += (m-badChar[ord(txt[s+m])] if s+m<n else 1)\n",
    "\t\telse:\n",
    "\t\t\ts += max(1, j-badChar[ord(txt[s+j])])\n",
    "\n",
    "\n",
    "\treturn patternFound"
   ],
   "metadata": {
    "collapsed": false,
    "pycharm": {
     "name": "#%%\n"
    }
   }
  },
  {
   "cell_type": "markdown",
   "source": [
    "El algoritmo de Boyer Moore puede tardar O(mn) de tiempo en el peor de los casos. El peor caso ocurre cuando todos los caracteres del texto y el patrón son iguales. Por ejemplo, txt[] = “AAAAAAAAAAAAAAAAAA” y pat[] = “AAAAA”. El mejor caso ocurre cuando todos los caracteres del texto y el patrón son diferentes.\n",
    "\n",
    "Time Complexity : O(n x m)\n",
    "\n",
    "Memory Space: O(1)\n",
    "\n",
    "\n",
    "El algoritmo como podemos ver es muy eficiente en el tiempo de ejecución, pero no es el mejor algoritmo para encontrar patrones en un texto, ya que no es capaz de encontrar patrones que se repiten en el texto, por ejemplo, si buscamos el patrón \"aliquam\" en el texto, el algoritmo no es capaz de encontrar el patrón \"aliquam aliquam\" ya que no es capaz de encontrar patrones que se repiten en el texto."
   ],
   "metadata": {
    "collapsed": false,
    "pycharm": {
     "name": "#%% md\n"
    }
   }
  },
  {
   "cell_type": "code",
   "execution_count": null,
   "outputs": [],
   "source": [
    "runtimeLinearSearch = []\n",
    "runtimeBOYER = []\n",
    "runtimeRabinKarp = []\n",
    "runtimeKMPSearch = []\n",
    "for i in wordSearchList:\n",
    "\t#print('Searching for: ',i)\n",
    "\tsearchBoyer = boyer_moore_search(data,i)\n",
    "\tsearchLinear = Linear_search(data,i)\n",
    "\tsearchRabinKarp = RKAlgorithm(data,i)\n",
    "\tsearchKMPSearch = KMPSearch(i,data)\n",
    "\truntimeBOYER.append(searchBoyer[1])\n",
    "\truntimeLinearSearch.append(searchLinear[1])\n",
    "\truntimeRabinKarp.append(searchRabinKarp[1])\n",
    "\truntimeKMPSearch.append(searchKMPSearch[1])"
   ],
   "metadata": {
    "collapsed": false,
    "pycharm": {
     "name": "#%%\n"
    }
   }
  },
  {
   "cell_type": "code",
   "execution_count": null,
   "outputs": [],
   "source": [
    "import pandas as pd\n",
    "import matplotlib.pyplot as plt\n",
    "\n",
    "df = pd.DataFrame(zip(runtimeBOYER,runtimeLinearSearch,runtimeRabinKarp,runtimeKMPSearch))\n",
    "df.columns = ['T(n) Boyer-Moore', 'T(n) Linear-Search', 'T(n) Rabin-Karp', 'T(n) KMP-Search']\n",
    "df\n",
    "df.plot(figsize=(20,10), title='Comparison between different search algorithms')"
   ],
   "metadata": {
    "collapsed": false,
    "pycharm": {
     "name": "#%%\n"
    }
   }
  },
  {
   "cell_type": "markdown",
   "source": [
    "### CONCLUSIONES"
   ],
   "metadata": {
    "collapsed": false,
    "pycharm": {
     "name": "#%% md\n"
    }
   }
  },
  {
   "cell_type": "markdown",
   "source": [
    "Para este proyecto lo que se decidió hacer fue investigar diferentes algoritmos de busqueda y compararlos entre si, el algoritmo base que utilizamos de comparación fue el de fuerza bruta llamado Linear Search, este algoritmo tiene una complejidad de O(n), lo que indica que es lineal. Este tipo de algoritmo lo que hace es buscar la palabra que se le indica a lo largo de todo el texto, por lo que tiene que escribirse la palabra exacta para que esta puede ser encontrada, por lo que muestra que no es tan eficiente. Una vez terminado la comparación de los diferentes algoritmos de búsqueda de patrones, podemos concluir que el algoritmo de búsqueda de patrones de Boyer-Moore es el más eficiente en términos de tiempo de ejecución, ya que es capaz de encontrar patrones en un texto en un tiempo de ejecución de O(n x m), siendo n el tamaño del texto y m el tamaño del patrón. Los otros algoritmos de busqueda como por ejemplo el algoritmo de Rabin Karp tiene una complejidad de O(n x m) y el algoritmo KMP tiene una complejidad de O(n + m), lo cual indica que tiene el misma tipo complejidad que el Boyer-Moore, es decir lineal, sin embargo, esto no quiere decir que sean igual de eficientes, debido a que Boyer-Moore va revisando en todo el texto que cada letra coincida con la palabra que se está buscando desde el final hasta el inicio y si no coincide continua buscando así por todo el texto. Por el otro lado el algoritmo Rabin Karp busca la comparación de valor de Hash de una subcadena y así a lo largo de todo el texto. Por último el algoritmo de KMP busca las palabras utilizando un sistema de patrones, buscando así los mismos patrones en el texto, demorandose más que el sistema de Boyer-Moore.\n",
    "\n",
    "\n",
    "No solo podemos llegar a esta conclusión de manera analítica, pero tener una comparación más visual se decidió utilizar un decorador de tiempo que permite calcular el tiempo que le toma a cada algoritmo recorrer su busqueda y así poder compararlos entre si. Como iba a resultar en una gran lista de números, decidimos que lo mejor sería graficar estos datos, por lo que en la gráfica superior se puede ver cuanto tiempo le toma a cada algoritmo de busqueda. Esto nos da como resultado que el algoritmo de busqueda Boyer-Moore es el más eficiente, ya que, le toma menos tiempo que los demás, luego sigue el algoritmo Linear Search, algoritmo KMP y por último el algoritmo Rabin Karp. Se observa que el tiempo de ejecucion de Linear Search y KMP es muy parecido aunque el Linear Search por unos pocos segundos es mejor que KMP, pero esto no quita el hecho de que Boyer-Moore siga siendo el mejor. Esto además nos indica que el tener algoritmos de complejidades lineales no significa que sean más eficientes, pues, puede darse el caso de que algunas sean mejores que otras como se visualizó en estas comparaciones.\n",
    "\n",
    "\n",
    "Para poder realizar este proyecto, se requirió de investigación para poder entender los diferentes algoritmos de búsqueda y poder así buscar cual es el más eficiente, además se requirió la investigación de funciones que permitan leer documentos txt y de funciones que nos permitan mostrar en pantalla la busqueda de palabras y como estas se pintan mostrando así el resultado de la busqueda. Este proyecto no solo nos permitió utilizar lo aprendido en clase para comparar resultados u obtener datos estadísticos como los tiempos de ejecución medidos con decoradores, pero también nos permitió aprender sobre los diferentes algoritmos de búsqueda y como funcionan, además de aprender a utilizar funciones que nos permitan leer archivos txt y mostrar en pantalla los resultados de la búsqueda. Por último, para revisar nuestras investigaciones y análisis hechos encontramos que nativo de Mac utiliza Boyer-Moore como funcion de busqueda, demostrando que nosotros hemos comprobado la eficiencia de algoritmos de busqueda de manera correcta."
   ],
   "metadata": {
    "collapsed": false,
    "pycharm": {
     "name": "#%% md\n"
    }
   }
  },
  {
   "cell_type": "code",
   "execution_count": null,
   "outputs": [],
   "source": [],
   "metadata": {
    "collapsed": false,
    "pycharm": {
     "name": "#%%\n"
    }
   }
  },
  {
   "cell_type": "code",
   "execution_count": null,
   "outputs": [],
   "source": [],
   "metadata": {
    "collapsed": false,
    "pycharm": {
     "name": "#%%\n"
    }
   }
  },
  {
   "cell_type": "markdown",
   "source": [
    "Para este proyecto lo que se decidió hacer fue investigar diferentes algoritmos de busqueda y compararlos entre si, el algoritmo base que utilizamos de comparación fue el de fuerza bruta llamado Linear Search, este algoritmo tiene una complejidad de O(n), lo que indica que es lineal. Este tipo de algoritmo lo que hace es buscar la palabra que se le indica a lo largo de todo el texto, por lo que tiene que escribirse la palabra exacta para que esta puede ser encontrada, por lo que muestra que no es tan eficiente. Una vez terminado la comparación de los diferentes algoritmos de búsqueda de patrones, podemos concluir que el algoritmo de búsqueda de patrones de Boyer-Moore es el más eficiente en términos de tiempo de ejecución, ya que es capaz de encontrar patrones en un texto en un tiempo de ejecución de O(n x m), siendo n el tamaño del texto y m el tamaño del patrón. Los otros algoritmos de busqueda como por ejemplo el algoritmo de Rabin Karp tiene una complejidad de O(n x m) y el algoritmo KMP tiene una complejidad de O(n + m), lo cual indica que tiene el misma tipo complejidad que el Boyer-Moore, es decir lineal, sin embargo, esto no quiere decir que sean igual de eficientes, debido a que Boyer-Moore va revisando en todo el texto que cada letra coincida con la palabra que se está buscando desde el final hasta el inicio y si no coincide continua buscando así por todo el texto. Por el otro lado el algoritmo Rabin Karp busca la comparación de valor de Hash de una subcadena y así a lo largo de todo el texto. Por último el algoritmo de KMP busca las palabras utilizando un sistema de patrones, buscando así los mismos patrones en el texto, demorandose más que el sistema de Boyer-Moore.\n",
    "\n",
    "\n",
    "No solo podemos llegar a esta conclusión de manera analítica, pero tener una comparación más visual se decidió utilizar un decorador de tiempo que permite calcular el tiempo que le toma a cada algoritmo recorrer su busqueda y así poder compararlos entre si. Como iba a resultar en una gran lista de números, decidimos que lo mejor sería graficar estos datos, por lo que en la gráfica superior se puede ver cuanto tiempo le toma a cada algoritmo de busqueda. Esto nos da como resultado que el algoritmo de busqueda Boyer-Moore es el más eficiente, ya que, le toma menos tiempo que los demás, luego sigue el algoritmo Linear Search, algoritmo KMP y por último el algoritmo Rabin Karp. Se observa que el tiempo de ejecucion de Linear Search y KMP es muy parecido aunque el Linear Search por unos pocos segundos es mejor que KMP, pero esto no quita el hecho de que Boyer-Moore siga siendo el mejor. Esto además nos indica que el tener algoritmos de complejidades lineales no significa que sean más eficientes, pues, puede darse el caso de que algunas sean mejores que otras como se visualizó en estas comparaciones.\n",
    "\n",
    "\n",
    "Para poder realizar este proyecto, se requirió de investigación para poder entender los diferentes algoritmos de búsqueda y poder así buscar cual es el más eficiente, además se requirió la investigación de funciones que permitan leer documentos txt y de funciones que nos permitan mostrar en pantalla la busqueda de palabras y como estas se pintan mostrando así el resultado de la busqueda. Este proyecto no solo nos permitió utilizar lo aprendido en clase para comparar resultados u obtener datos estadísticos como los tiempos de ejecución medidos con decoradores, pero también nos permitió aprender sobre los diferentes algoritmos de búsqueda y como funcionan, además de aprender a utilizar funciones que nos permitan leer archivos txt y mostrar en pantalla los resultados de la búsqueda. Por último, para revisar nuestras investigaciones y análisis hechos encontramos que nativo de Mac utiliza Boyer-Moore como funcion de busqueda, demostrando que nosotros hemos comprobado la eficiencia de algoritmos de busqueda de manera correcta."
   ],
   "metadata": {
    "collapsed": false,
    "pycharm": {
     "name": "#%% md\n"
    }
   }
  },
  {
   "cell_type": "code",
   "execution_count": null,
   "outputs": [],
   "source": [],
   "metadata": {
    "collapsed": false,
    "pycharm": {
     "name": "#%%\n"
    }
   }
  },
  {
   "cell_type": "code",
   "execution_count": null,
   "outputs": [],
   "source": [],
   "metadata": {
    "collapsed": false,
    "pycharm": {
     "name": "#%%\n"
    }
   }
  }
 ],
 "metadata": {
  "kernelspec": {
   "display_name": "Python 3",
   "language": "python",
   "name": "python3"
  },
  "language_info": {
   "codemirror_mode": {
    "name": "ipython",
    "version": 2
   },
   "file_extension": ".py",
   "mimetype": "text/x-python",
   "name": "python",
   "nbconvert_exporter": "python",
   "pygments_lexer": "ipython2",
   "version": "2.7.6"
  }
 },
 "nbformat": 4,
 "nbformat_minor": 0
}