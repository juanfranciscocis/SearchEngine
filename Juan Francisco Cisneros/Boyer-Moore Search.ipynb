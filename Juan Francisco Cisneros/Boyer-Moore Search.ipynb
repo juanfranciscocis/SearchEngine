{
 "cells": [
  {
   "cell_type": "code",
   "execution_count": 65,
   "outputs": [],
   "source": [
    "import time\n",
    "def timer_func(func):\n",
    "    # This function shows the execution time of\n",
    "    # the function object passed\n",
    "    def wrap_func(*args, **kwargs):\n",
    "        t1 = time.time()*10**12\n",
    "        result = func(*args, **kwargs)\n",
    "        t2 = time.time()*10**12\n",
    "        return result , t2-t1\n",
    "    return wrap_func"
   ],
   "metadata": {
    "collapsed": false,
    "pycharm": {
     "name": "#%%\n"
    }
   }
  },
  {
   "cell_type": "markdown",
   "source": [
    "# Boyer-Moore String Search Algorithm"
   ],
   "metadata": {
    "collapsed": false,
    "pycharm": {
     "name": "#%% md\n"
    }
   }
  },
  {
   "cell_type": "code",
   "execution_count": 66,
   "outputs": [],
   "source": [
    "NO_OF_CHARS = 256\n",
    "\n",
    "def badCharHeuristic(string, size):\n",
    "\tbadChar = [-1]*NO_OF_CHARS\n",
    "\n",
    "\tfor i in range(size):\n",
    "\t\tbadChar[ord(string[i])] = i;\n",
    "\n",
    "\treturn badChar\n",
    "\n",
    "@timer_func\n",
    "def boyer_moore_search(txt, pat):\n",
    "\n",
    "\tpatternFound = []\n",
    "\n",
    "\tm = len(pat)\n",
    "\tn = len(txt)\n",
    "\n",
    "\tbadChar = badCharHeuristic(pat, m)\n",
    "\n",
    "\ts = 0\n",
    "\twhile(s <= n-m):\n",
    "\t\tj = m-1\n",
    "\n",
    "\t\twhile j>=0 and pat[j] == txt[s+j]:\n",
    "\t\t\tj -= 1\n",
    "\n",
    "\t\tif j<0:\n",
    "\t\t\t#print(\"Pattern occur at shift = {}\".format(s))\n",
    "\t\t\tpatternFound.append(s)\n",
    "\t\t\ts += (m-badChar[ord(txt[s+m])] if s+m<n else 1)\n",
    "\t\telse:\n",
    "\t\t\ts += max(1, j-badChar[ord(txt[s+j])])\n",
    "\n",
    "\n",
    "\treturn patternFound"
   ],
   "metadata": {
    "collapsed": false,
    "pycharm": {
     "name": "#%%\n"
    }
   }
  },
  {
   "cell_type": "markdown",
   "source": [
    "### LETS WRITE A SIMPLE TEST CASE"
   ],
   "metadata": {
    "collapsed": false,
    "pycharm": {
     "name": "#%% md\n"
    }
   }
  },
  {
   "cell_type": "code",
   "execution_count": 67,
   "outputs": [],
   "source": [
    "with open('huge_txt_example.txt', 'r') as file:\n",
    "    data = file.read()\n",
    "\n",
    "#data to lowercase\n",
    "data = data.lower()"
   ],
   "metadata": {
    "collapsed": false,
    "pycharm": {
     "name": "#%%\n"
    }
   }
  },
  {
   "cell_type": "code",
   "execution_count": 68,
   "outputs": [],
   "source": [
    "a  = boyer_moore_search(data,\"aliquam\")"
   ],
   "metadata": {
    "collapsed": false,
    "pycharm": {
     "name": "#%%\n"
    }
   }
  },
  {
   "cell_type": "code",
   "execution_count": 69,
   "outputs": [
    {
     "data": {
      "text/plain": "3181"
     },
     "execution_count": 69,
     "metadata": {},
     "output_type": "execute_result"
    }
   ],
   "source": [
    "len(a[0])"
   ],
   "metadata": {
    "collapsed": false,
    "pycharm": {
     "name": "#%%\n"
    }
   }
  },
  {
   "cell_type": "markdown",
   "source": [
    "### Runtime For Boyer-Moore"
   ],
   "metadata": {
    "collapsed": false,
    "pycharm": {
     "name": "#%% md\n"
    }
   }
  },
  {
   "cell_type": "code",
   "execution_count": 70,
   "outputs": [],
   "source": [
    "wordSearchList = ['dui','aliquam','habitant','neque','nunc','commodo','libero','nulla','sapien','suscipit','viverra','mauris','nibh','nisi','nisl','nunc','odio','orci','ornare','pellentesque','pharetra','placerat','porta','porttitor','posuere','potenti','praesent','pretium','proin','pulvinar','purus','quam','quis','quisque','rhoncus','risus','rutrum','sagittis','sapien','scelerisque','sed','sem','semper','senectus','sit','sociis','sociosqu','sodales','sollicitudin','suscipit','suspendisse','taciti','tellus','tempor','tempus','tincidunt','torquent','tortor','tristique','turpis','ullamcorper','ultrices','ultricies','urna','ut','varius','vehicula','vel','velit','venenatis','vestibulum','vitae','vivamus','viverra','volutpat','vulputate']"
   ],
   "metadata": {
    "collapsed": false,
    "pycharm": {
     "name": "#%%\n"
    }
   }
  },
  {
   "cell_type": "code",
   "execution_count": 71,
   "outputs": [
    {
     "name": "stdout",
     "output_type": "stream",
     "text": [
      "Searching for:  dui\n",
      "Searching for:  aliquam\n",
      "Searching for:  habitant\n",
      "Searching for:  neque\n",
      "Searching for:  nunc\n",
      "Searching for:  commodo\n",
      "Searching for:  libero\n",
      "Searching for:  nulla\n",
      "Searching for:  sapien\n",
      "Searching for:  suscipit\n",
      "Searching for:  viverra\n",
      "Searching for:  mauris\n",
      "Searching for:  nibh\n",
      "Searching for:  nisi\n",
      "Searching for:  nisl\n",
      "Searching for:  nunc\n",
      "Searching for:  odio\n",
      "Searching for:  orci\n",
      "Searching for:  ornare\n",
      "Searching for:  pellentesque\n",
      "Searching for:  pharetra\n",
      "Searching for:  placerat\n",
      "Searching for:  porta\n",
      "Searching for:  porttitor\n",
      "Searching for:  posuere\n",
      "Searching for:  potenti\n",
      "Searching for:  praesent\n",
      "Searching for:  pretium\n",
      "Searching for:  proin\n",
      "Searching for:  pulvinar\n",
      "Searching for:  purus\n",
      "Searching for:  quam\n",
      "Searching for:  quis\n",
      "Searching for:  quisque\n",
      "Searching for:  rhoncus\n",
      "Searching for:  risus\n",
      "Searching for:  rutrum\n",
      "Searching for:  sagittis\n",
      "Searching for:  sapien\n",
      "Searching for:  scelerisque\n",
      "Searching for:  sed\n",
      "Searching for:  sem\n",
      "Searching for:  semper\n",
      "Searching for:  senectus\n",
      "Searching for:  sit\n",
      "Searching for:  sociis\n",
      "Searching for:  sociosqu\n",
      "Searching for:  sodales\n",
      "Searching for:  sollicitudin\n",
      "Searching for:  suscipit\n",
      "Searching for:  suspendisse\n",
      "Searching for:  taciti\n",
      "Searching for:  tellus\n",
      "Searching for:  tempor\n",
      "Searching for:  tempus\n",
      "Searching for:  tincidunt\n",
      "Searching for:  torquent\n",
      "Searching for:  tortor\n",
      "Searching for:  tristique\n",
      "Searching for:  turpis\n",
      "Searching for:  ullamcorper\n",
      "Searching for:  ultrices\n",
      "Searching for:  ultricies\n",
      "Searching for:  urna\n",
      "Searching for:  ut\n",
      "Searching for:  varius\n",
      "Searching for:  vehicula\n",
      "Searching for:  vel\n",
      "Searching for:  velit\n",
      "Searching for:  venenatis\n",
      "Searching for:  vestibulum\n",
      "Searching for:  vitae\n",
      "Searching for:  vivamus\n",
      "Searching for:  viverra\n",
      "Searching for:  volutpat\n",
      "Searching for:  vulputate\n"
     ]
    }
   ],
   "source": [
    "search = []\n",
    "runtime = []\n",
    "for i in wordSearchList:\n",
    "\tprint('Searching for: ',i)\n",
    "\tsearch = boyer_moore_search(data,i)\n",
    "\truntime.append(search[1])"
   ],
   "metadata": {
    "collapsed": false,
    "pycharm": {
     "name": "#%%\n"
    }
   }
  },
  {
   "cell_type": "code",
   "execution_count": 72,
   "outputs": [
    {
     "name": "stdout",
     "output_type": "stream",
     "text": [
      "[2246897827840.0, 1192398946304.0, 717899169792.0, 848321576960.0, 616471986176.0, 311719100416.0, 280003608576.0, 306996051968.0, 298521460736.0, 250156941312.0, 270946009088.0, 287905677312.0, 412053929984.0, 367633104896.0, 386365128704.0, 354594062336.0, 378867286016.0, 359122337792.0, 259545104384.0, 167341719552.0, 211764903936.0, 247987961856.0, 333914046464.0, 207478849536.0, 222524080128.0, 260839047168.0, 237010944000.0, 273688821760.0, 332548014080.0, 228352065536.0, 324470046720.0, 394290003968.0, 439082024960.0, 241020698624.0, 227024830464.0, 312446025728.0, 238983839744.0, 224224870400.0, 264120041472.0, 200745943040.0, 511357747200.0, 519354974208.0, 261055840256.0, 241451925504.0, 540556656640.0, 266868883456.0, 238091763712.0, 254111907840.0, 181629091840.0, 212255113216.0, 147565838336.0, 274713280512.0, 288855949312.0, 276290076672.0, 305847074816.0, 172113788928.0, 258581725184.0, 294341836800.0, 339830636544.0, 361278996480.0, 178715361280.0, 237954662400.0, 197279088640.0, 364507037696.0, 710886031360.0, 284860874752.0, 258314862592.0, 539711766528.0, 364563136512.0, 199068221440.0, 192326926336.0, 360716959744.0, 244946829312.0, 233907945472.0, 286728126464.0, 249897156608.0]\n"
     ]
    }
   ],
   "source": [
    "print(runtime)"
   ],
   "metadata": {
    "collapsed": false,
    "pycharm": {
     "name": "#%%\n"
    }
   }
  },
  {
   "cell_type": "code",
   "execution_count": 73,
   "outputs": [
    {
     "data": {
      "text/plain": "    T(n) Boyer-Moore\n0       2.246898e+12\n1       1.192399e+12\n2       7.178992e+11\n3       8.483216e+11\n4       6.164720e+11\n..               ...\n71      3.607170e+11\n72      2.449468e+11\n73      2.339079e+11\n74      2.867281e+11\n75      2.498972e+11\n\n[76 rows x 1 columns]",
      "text/html": "<div>\n<style scoped>\n    .dataframe tbody tr th:only-of-type {\n        vertical-align: middle;\n    }\n\n    .dataframe tbody tr th {\n        vertical-align: top;\n    }\n\n    .dataframe thead th {\n        text-align: right;\n    }\n</style>\n<table border=\"1\" class=\"dataframe\">\n  <thead>\n    <tr style=\"text-align: right;\">\n      <th></th>\n      <th>T(n) Boyer-Moore</th>\n    </tr>\n  </thead>\n  <tbody>\n    <tr>\n      <th>0</th>\n      <td>2.246898e+12</td>\n    </tr>\n    <tr>\n      <th>1</th>\n      <td>1.192399e+12</td>\n    </tr>\n    <tr>\n      <th>2</th>\n      <td>7.178992e+11</td>\n    </tr>\n    <tr>\n      <th>3</th>\n      <td>8.483216e+11</td>\n    </tr>\n    <tr>\n      <th>4</th>\n      <td>6.164720e+11</td>\n    </tr>\n    <tr>\n      <th>...</th>\n      <td>...</td>\n    </tr>\n    <tr>\n      <th>71</th>\n      <td>3.607170e+11</td>\n    </tr>\n    <tr>\n      <th>72</th>\n      <td>2.449468e+11</td>\n    </tr>\n    <tr>\n      <th>73</th>\n      <td>2.339079e+11</td>\n    </tr>\n    <tr>\n      <th>74</th>\n      <td>2.867281e+11</td>\n    </tr>\n    <tr>\n      <th>75</th>\n      <td>2.498972e+11</td>\n    </tr>\n  </tbody>\n</table>\n<p>76 rows × 1 columns</p>\n</div>"
     },
     "execution_count": 73,
     "metadata": {},
     "output_type": "execute_result"
    }
   ],
   "source": [
    "import pandas as pd\n",
    "import matplotlib.pyplot as plt\n",
    "df = pd.DataFrame(zip(runtime))  #DEFINE THE DATA FRAME\n",
    "df.columns = [ 'T(n) Boyer-Moore']\n",
    "df"
   ],
   "metadata": {
    "collapsed": false,
    "pycharm": {
     "name": "#%%\n"
    }
   }
  },
  {
   "cell_type": "code",
   "execution_count": 74,
   "outputs": [
    {
     "data": {
      "text/plain": "<AxesSubplot: >"
     },
     "execution_count": 74,
     "metadata": {},
     "output_type": "execute_result"
    },
    {
     "data": {
      "text/plain": "<Figure size 640x480 with 1 Axes>",
      "image/png": "[encoded data removed]"
     },
     "metadata": {},
     "output_type": "display_data"
    }
   ],
   "source": [
    "df.plot(y='T(n) Boyer-Moore')"
   ],
   "metadata": {
    "collapsed": false,
    "pycharm": {
     "name": "#%%\n"
    }
   }
  },
  {
   "cell_type": "code",
   "execution_count": 74,
   "outputs": [],
   "source": [],
   "metadata": {
    "collapsed": false,
    "pycharm": {
     "name": "#%%\n"
    }
   }
  }
 ],
 "metadata": {
  "kernelspec": {
   "display_name": "Python 3",
   "language": "python",
   "name": "python3"
  },
  "language_info": {
   "codemirror_mode": {
    "name": "ipython",
    "version": 2
   },
   "file_extension": ".py",
   "mimetype": "text/x-python",
   "name": "python",
   "nbconvert_exporter": "python",
   "pygments_lexer": "ipython2",
   "version": "2.7.6"
  }
 },
 "nbformat": 4,
 "nbformat_minor": 0
}