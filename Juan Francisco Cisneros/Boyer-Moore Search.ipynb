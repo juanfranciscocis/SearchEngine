{
 "cells": [
  {
   "cell_type": "code",
   "execution_count": 57,
   "outputs": [],
   "source": [
    "import time\n",
    "def timer_func(func):\n",
    "    # This function shows the execution time of\n",
    "    # the function object passed\n",
    "    def wrap_func(*args, **kwargs):\n",
    "        t1 = time.time()*10**12\n",
    "        result = func(*args, **kwargs)\n",
    "        t2 = time.time()*10**12\n",
    "        return result , t2-t1\n",
    "    return wrap_func"
   ],
   "metadata": {
    "collapsed": false,
    "pycharm": {
     "name": "#%%\n"
    }
   }
  },
  {
   "cell_type": "markdown",
   "source": [
    "# Boyer-Moore String Search Algorithm"
   ],
   "metadata": {
    "collapsed": false,
    "pycharm": {
     "name": "#%% md\n"
    }
   }
  },
  {
   "cell_type": "markdown",
   "source": [
    "La cadena-algoritmo de búsqueda de Boyer-Moore es un eficiente algoritmo de búsqueda de caracteres. Fue desarrollado por Robert S. Boyer y J Strother Moore en 1977.  El algoritmo preprocesa la cadena que se busca (el patrón), pero no la cadena en la que se busca (el texto). Por lo tanto, es adecuado para aplicaciones en las que el patrón es mucho más corto que el texto o donde persiste en múltiples búsquedas.En general, el algoritmo se ejecuta más rápido a medida que aumenta la longitud del patrón. Las características clave del algoritmo son hacer coincidir la cola del patrón en lugar de la cabeza, y saltar a lo largo del texto en saltos de varios caracteres en lugar de buscar todos los caracteres del texto. Tal como se muestra en el siguiente gif:\n",
    "\n",
    "\n"
   ],
   "metadata": {
    "collapsed": false,
    "pycharm": {
     "name": "#%% md\n"
    }
   }
  },
  {
   "cell_type": "markdown",
   "source": [
    "![SegmentLocal](boyerMoore.gif)"
   ],
   "metadata": {
    "collapsed": false,
    "pycharm": {
     "name": "#%% md\n"
    }
   }
  },
  {
   "cell_type": "markdown",
   "source": [
    "El algoritmo de Boyer-Moore busca apariciones de P en T realizando comparaciones explícitas de caracteres en diferentes alineaciones. El algoritmo comienza en la alineación k=n, Por lo que el inicio de P está alineado con el inicio de T . Los caracteres en P y T se comparan entonces comenzando en el índice n en P y K en T , se mueve hacia atrás. Las comparaciones continúan hasta que se alcanza el comienzo de P (lo que significa que hay una coincidencia) o se produce una falta de coincidencia en la que la alineación se desplaza hacia adelante (hacia la derecha) de acuerdo con el valor máximo permitido por una serie de reglas. Las comparaciones se realizan de nuevo en la nueva alineación y el proceso se repite hasta que la alineación se desplaza más allá del final de T"
   ],
   "metadata": {
    "collapsed": false,
    "pycharm": {
     "name": "#%% md\n"
    }
   }
  },
  {
   "cell_type": "code",
   "execution_count": null,
   "outputs": [],
   "source": [
    "NO_OF_CHARS = 256\n",
    "\n",
    "def badCharHeuristic(string, size):\n",
    "\tbadChar = [-1]*NO_OF_CHARS\n",
    "\n",
    "\tfor i in range(size):\n",
    "\t\tbadChar[ord(string[i])] = i;\n",
    "\n",
    "\treturn badChar\n",
    "\n",
    "@timer_func\n",
    "def boyer_moore_search(txt, pat):\n",
    "\n",
    "\tpatternFound = []\n",
    "\n",
    "\tm = len(pat)\n",
    "\tn = len(txt)\n",
    "\n",
    "\tbadChar = badCharHeuristic(pat, m)\n",
    "\n",
    "\ts = 0\n",
    "\twhile(s <= n-m):\n",
    "\t\tj = m-1\n",
    "\n",
    "\t\twhile j>=0 and pat[j] == txt[s+j]:\n",
    "\t\t\tj -= 1\n",
    "\n",
    "\t\tif j<0:\n",
    "\t\t\t#print(\"Pattern occur at shift = {}\".format(s))\n",
    "\t\t\tpatternFound.append(s)\n",
    "\t\t\ts += (m-badChar[ord(txt[s+m])] if s+m<n else 1)\n",
    "\t\telse:\n",
    "\t\t\ts += max(1, j-badChar[ord(txt[s+j])])\n",
    "\n",
    "\n",
    "\treturn patternFound"
   ],
   "metadata": {
    "collapsed": false,
    "pycharm": {
     "name": "#%%\n"
    }
   }
  },
  {
   "cell_type": "markdown",
   "source": [
    "### LETS WRITE A SIMPLE TEST CASE"
   ],
   "metadata": {
    "collapsed": false,
    "pycharm": {
     "name": "#%% md\n"
    }
   }
  },
  {
   "cell_type": "code",
   "execution_count": null,
   "outputs": [],
   "source": [
    "with open('huge_txt_example.txt', 'r') as file:\n",
    "    data = file.read()\n",
    "\n",
    "#data to lowercase\n",
    "data = data.lower()"
   ],
   "metadata": {
    "collapsed": false,
    "pycharm": {
     "name": "#%%\n"
    }
   }
  },
  {
   "cell_type": "code",
   "execution_count": null,
   "outputs": [],
   "source": [
    "a  = boyer_moore_search(data,\"aliquam\")"
   ],
   "metadata": {
    "collapsed": false,
    "pycharm": {
     "name": "#%%\n"
    }
   }
  },
  {
   "cell_type": "code",
   "execution_count": null,
   "outputs": [],
   "source": [
    "print(len(a[0]), \"occurrences found in the text\")"
   ],
   "metadata": {
    "collapsed": false,
    "pycharm": {
     "name": "#%%\n"
    }
   }
  },
  {
   "cell_type": "markdown",
   "source": [
    "### Runtime For Boyer-Moore"
   ],
   "metadata": {
    "collapsed": false,
    "pycharm": {
     "name": "#%% md\n"
    }
   }
  },
  {
   "cell_type": "code",
   "execution_count": null,
   "outputs": [],
   "source": [
    "# We are going to search the next list of words in the text using Boyer-Moore algorithm\n",
    "wordSearchList = ['dui','aliquam','habitant','neque','nunc','commodo','libero','nulla','sapien','suscipit','viverra','mauris','nibh','nisi','nisl','nunc','odio','orci','ornare','pellentesque','pharetra','placerat','porta','porttitor','posuere','potenti','praesent','pretium','proin','pulvinar','purus','quam','quis','quisque','rhoncus','risus','rutrum','sagittis','sapien','scelerisque','sed','sem','semper','senectus','sit','sociis','sociosqu','sodales','sollicitudin','suscipit','suspendisse','taciti','tellus','tempor','tempus','tincidunt','torquent','tortor','tristique','turpis','ullamcorper','ultrices','ultricies','urna','ut','varius','vehicula','vel','velit','venenatis','vestibulum','vitae','vivamus','viverra','volutpat','vulputate']"
   ],
   "metadata": {
    "collapsed": false,
    "pycharm": {
     "name": "#%%\n"
    }
   }
  },
  {
   "cell_type": "code",
   "execution_count": null,
   "outputs": [],
   "source": [
    "runtime = []\n",
    "for i in wordSearchList:\n",
    "\tprint('Searching for: ',i)\n",
    "\tsearch = boyer_moore_search(data,i)\n",
    "\truntime.append(search[1])"
   ],
   "metadata": {
    "collapsed": false,
    "pycharm": {
     "name": "#%%\n"
    }
   }
  },
  {
   "cell_type": "code",
   "execution_count": null,
   "outputs": [],
   "source": [
    "print(runtime)"
   ],
   "metadata": {
    "collapsed": false,
    "pycharm": {
     "name": "#%%\n"
    }
   }
  },
  {
   "cell_type": "code",
   "execution_count": null,
   "outputs": [],
   "source": [
    "import pandas as pd\n",
    "import matplotlib.pyplot as plt\n",
    "df = pd.DataFrame(zip(runtime))  #DEFINE THE DATA FRAME\n",
    "df.columns = [ 'T(n) Boyer-Moore']\n",
    "df"
   ],
   "metadata": {
    "collapsed": false,
    "pycharm": {
     "name": "#%%\n"
    }
   }
  },
  {
   "cell_type": "code",
   "execution_count": null,
   "outputs": [],
   "source": [
    "df.plot(y='T(n) Boyer-Moore')"
   ],
   "metadata": {
    "collapsed": false,
    "pycharm": {
     "name": "#%%\n"
    }
   }
  },
  {
   "cell_type": "markdown",
   "source": [
    "El algoritmo de Boyer Moore puede tardar O(mn) de tiempo en el peor de los casos. El peor caso ocurre cuando todos los caracteres del texto y el patrón son iguales. Por ejemplo, txt[] = “AAAAAAAAAAAAAAAAAA” y pat[] = “AAAAA”. El mejor caso ocurre cuando todos los caracteres del texto y el patrón son diferentes.\n",
    "\n",
    "Time Complexity : O(n x m)\n",
    "\n",
    "Memory Space: O(1)\n",
    "\n",
    "\n",
    "El algoritmo como podemos ver es muy eficiente en el tiempo de ejecución, pero no es el mejor algoritmo para encontrar patrones en un texto, ya que no es capaz de encontrar patrones que se repiten en el texto, por ejemplo, si buscamos el patrón \"aliquam\" en el texto, el algoritmo no es capaz de encontrar el patrón \"aliquam aliquam\" ya que no es capaz de encontrar patrones que se repiten en el texto."
   ],
   "metadata": {
    "collapsed": false,
    "pycharm": {
     "name": "#%% md\n"
    }
   }
  },
  {
   "cell_type": "code",
   "execution_count": null,
   "outputs": [],
   "source": [
    "print(runtime)"
   ],
   "metadata": {
    "collapsed": false,
    "pycharm": {
     "name": "#%%\n"
    }
   }
  },
  {
   "cell_type": "code",
   "execution_count": null,
   "outputs": [],
   "source": [
    "import pandas as pd\n",
    "import matplotlib.pyplot as plt\n",
    "df = pd.DataFrame(zip(runtime))  #DEFINE THE DATA FRAME\n",
    "df.columns = [ 'T(n) Boyer-Moore']\n",
    "df"
   ],
   "metadata": {
    "collapsed": false,
    "pycharm": {
     "name": "#%%\n"
    }
   }
  },
  {
   "cell_type": "code",
   "execution_count": null,
   "outputs": [],
   "source": [
    "df.plot(y='T(n) Boyer-Moore')"
   ],
   "metadata": {
    "collapsed": false,
    "pycharm": {
     "name": "#%%\n"
    }
   }
  },
  {
   "cell_type": "markdown",
   "source": [
    "El algoritmo de Boyer Moore puede tardar O(mn) de tiempo en el peor de los casos. El peor caso ocurre cuando todos los caracteres del texto y el patrón son iguales. Por ejemplo, txt[] = “AAAAAAAAAAAAAAAAAA” y pat[] = “AAAAA”. El mejor caso ocurre cuando todos los caracteres del texto y el patrón son diferentes.\n",
    "\n",
    "Time Complexity : O(n x m)\n",
    "\n",
    "Memory Space: O(1)\n",
    "\n",
    "\n",
    "El algoritmo como podemos ver es muy eficiente en el tiempo de ejecución, pero no es el mejor algoritmo para encontrar patrones en un texto, ya que no es capaz de encontrar patrones que se repiten en el texto, por ejemplo, si buscamos el patrón \"aliquam\" en el texto, el algoritmo no es capaz de encontrar el patrón \"aliquam aliquam\" ya que no es capaz de encontrar patrones que se repiten en el texto."
   ],
   "metadata": {
    "collapsed": false,
    "pycharm": {
     "name": "#%% md\n"
    }
   }
  },
  {
   "cell_type": "code",
   "execution_count": null,
   "outputs": [],
   "source": [],
   "metadata": {
    "collapsed": false,
    "pycharm": {
     "name": "#%%\n"
    }
   }
  },
  {
   "cell_type": "code",
   "execution_count": null,
   "outputs": [],
   "source": [
    "import pandas as pd\n",
    "import matplotlib.pyplot as plt\n",
    "df = pd.DataFrame(zip(runtime))  #DEFINE THE DATA FRAME\n",
    "df.columns = [ 'T(n) Boyer-Moore']\n",
    "df"
   ],
   "metadata": {
    "collapsed": false,
    "pycharm": {
     "name": "#%%\n"
    }
   }
  },
  {
   "cell_type": "code",
   "execution_count": null,
   "outputs": [],
   "source": [
    "df.plot(y='T(n) Boyer-Moore')"
   ],
   "metadata": {
    "collapsed": false,
    "pycharm": {
     "name": "#%%\n"
    }
   }
  },
  {
   "cell_type": "markdown",
   "source": [
    "El algoritmo de Boyer Moore puede tardar O(mn) de tiempo en el peor de los casos. El peor caso ocurre cuando todos los caracteres del texto y el patrón son iguales. Por ejemplo, txt[] = “AAAAAAAAAAAAAAAAAA” y pat[] = “AAAAA”. El mejor caso ocurre cuando todos los caracteres del texto y el patrón son diferentes.\n",
    "\n",
    "Time Complexity : O(n x m)\n",
    "\n",
    "Memory Space: O(1)\n",
    "\n",
    "\n",
    "El algoritmo como podemos ver es muy eficiente en el tiempo de ejecución, pero no es el mejor algoritmo para encontrar patrones en un texto, ya que no es capaz de encontrar patrones que se repiten en el texto, por ejemplo, si buscamos el patrón \"aliquam\" en el texto, el algoritmo no es capaz de encontrar el patrón \"aliquam aliquam\" ya que no es capaz de encontrar patrones que se repiten en el texto."
   ],
   "metadata": {
    "collapsed": false,
    "pycharm": {
     "name": "#%% md\n"
    }
   }
  },
  {
   "cell_type": "code",
   "execution_count": null,
   "outputs": [],
   "source": [],
   "metadata": {
    "collapsed": false,
    "pycharm": {
     "name": "#%%\n"
    }
   }
  },
  {
   "cell_type": "code",
   "execution_count": 65,
   "outputs": [
    {
     "data": {
      "text/plain": "    T(n) Boyer-Moore\n0       7.295260e+11\n1       4.389321e+11\n2       3.289889e+11\n3       4.090482e+11\n4       5.136030e+11\n..               ...\n71      3.199819e+11\n72      2.142409e+11\n73      2.024090e+11\n74      1.798038e+11\n75      1.628939e+11\n\n[76 rows x 1 columns]",
      "text/html": "<div>\n<style scoped>\n    .dataframe tbody tr th:only-of-type {\n        vertical-align: middle;\n    }\n\n    .dataframe tbody tr th {\n        vertical-align: top;\n    }\n\n    .dataframe thead th {\n        text-align: right;\n    }\n</style>\n<table border=\"1\" class=\"dataframe\">\n  <thead>\n    <tr style=\"text-align: right;\">\n      <th></th>\n      <th>T(n) Boyer-Moore</th>\n    </tr>\n  </thead>\n  <tbody>\n    <tr>\n      <th>0</th>\n      <td>7.295260e+11</td>\n    </tr>\n    <tr>\n      <th>1</th>\n      <td>4.389321e+11</td>\n    </tr>\n    <tr>\n      <th>2</th>\n      <td>3.289889e+11</td>\n    </tr>\n    <tr>\n      <th>3</th>\n      <td>4.090482e+11</td>\n    </tr>\n    <tr>\n      <th>4</th>\n      <td>5.136030e+11</td>\n    </tr>\n    <tr>\n      <th>...</th>\n      <td>...</td>\n    </tr>\n    <tr>\n      <th>71</th>\n      <td>3.199819e+11</td>\n    </tr>\n    <tr>\n      <th>72</th>\n      <td>2.142409e+11</td>\n    </tr>\n    <tr>\n      <th>73</th>\n      <td>2.024090e+11</td>\n    </tr>\n    <tr>\n      <th>74</th>\n      <td>1.798038e+11</td>\n    </tr>\n    <tr>\n      <th>75</th>\n      <td>1.628939e+11</td>\n    </tr>\n  </tbody>\n</table>\n<p>76 rows × 1 columns</p>\n</div>"
     },
     "execution_count": 65,
     "metadata": {},
     "output_type": "execute_result"
    }
   ],
   "source": [
    "import pandas as pd\n",
    "import matplotlib.pyplot as plt\n",
    "df = pd.DataFrame(zip(runtime))  #DEFINE THE DATA FRAME\n",
    "df.columns = [ 'T(n) Boyer-Moore']\n",
    "df"
   ],
   "metadata": {
    "collapsed": false,
    "pycharm": {
     "name": "#%%\n"
    }
   }
  },
  {
   "cell_type": "code",
   "execution_count": 66,
   "outputs": [
    {
     "data": {
      "text/plain": "<AxesSubplot: >"
     },
     "execution_count": 66,
     "metadata": {},
     "output_type": "execute_result"
    },
    {
     "data": {
      "text/plain": "<Figure size 640x480 with 1 Axes>",
      "image/png": "[encoded data removed]"
     },
     "metadata": {},
     "output_type": "display_data"
    }
   ],
   "source": [
    "df.plot(y='T(n) Boyer-Moore')"
   ],
   "metadata": {
    "collapsed": false,
    "pycharm": {
     "name": "#%%\n"
    }
   }
  },
  {
   "cell_type": "markdown",
   "source": [
    "El algoritmo de Boyer Moore puede tardar O(mn) de tiempo en el peor de los casos. El peor caso ocurre cuando todos los caracteres del texto y el patrón son iguales. Por ejemplo, txt[] = “AAAAAAAAAAAAAAAAAA” y pat[] = “AAAAA”. El mejor caso ocurre cuando todos los caracteres del texto y el patrón son diferentes.\n",
    "\n",
    "Time Complexity : O(n x m)\n",
    "\n",
    "Memory Space: O(1)\n",
    "\n",
    "\n",
    "El algoritmo como podemos ver es muy eficiente en el tiempo de ejecución, pero no es el mejor algoritmo para encontrar patrones en un texto, ya que no es capaz de encontrar patrones que se repiten en el texto, por ejemplo, si buscamos el patrón \"aliquam\" en el texto, el algoritmo no es capaz de encontrar el patrón \"aliquam aliquam\" ya que no es capaz de encontrar patrones que se repiten en el texto."
   ],
   "metadata": {
    "collapsed": false,
    "pycharm": {
     "name": "#%% md\n"
    }
   }
  },
  {
   "cell_type": "code",
   "execution_count": null,
   "outputs": [],
   "source": [],
   "metadata": {
    "collapsed": false,
    "pycharm": {
     "name": "#%%\n"
    }
   }
  }
 ],
 "metadata": {
  "kernelspec": {
   "display_name": "Python 3",
   "language": "python",
   "name": "python3"
  },
  "language_info": {
   "codemirror_mode": {
    "name": "ipython",
    "version": 2
   },
   "file_extension": ".py",
   "mimetype": "text/x-python",
   "name": "python",
   "nbconvert_exporter": "python",
   "pygments_lexer": "ipython2",
   "version": "2.7.6"
  }
 },
 "nbformat": 4,
 "nbformat_minor": 0
}