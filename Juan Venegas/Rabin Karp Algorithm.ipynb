{
 "cells": [
  {
   "cell_type": "markdown",
   "id": "90181265",
   "metadata": {},
   "source": [
    "# Run Time function"
   ]
  },
  {
   "cell_type": "code",
   "execution_count": 1,
   "id": "c8716eaa",
   "metadata": {},
   "outputs": [],
   "source": [
    "import time\n",
    "def timer_func(func):\n",
    "    # This function shows the execution time of\n",
    "    # the function object passed\n",
    "    def wrap_func(*args, **kwargs):\n",
    "        t1 = time.time()*10**12\n",
    "        result = func(*args, **kwargs)\n",
    "        t2 = time.time()*10**12\n",
    "        return result , t2-t1\n",
    "    return wrap_func"
   ]
  },
  {
   "cell_type": "markdown",
   "id": "37a3eccc",
   "metadata": {},
   "source": [
    "# Rabin Karp Algorithm (RK)"
   ]
  },
  {
   "cell_type": "markdown",
   "id": "384a3787",
   "metadata": {},
   "source": [
    "El algoritmo RK es un algoritmo de comparacion que consiste en recorrer el texto comparando el valor hash de una subcadena de texto especifica con el valor del hash de la cadena que se esta buscando (patron).\n",
    "\n",
    "Digamos que se tiene el siguiente texto:\n",
    "        $$ A\\ B\\  C\\  D\\  E\\  E\\  F\\  G\\  H\\  I $$\n",
    "y se quiere buscar $$E\\  F$$\n",
    "El algoritmo consiste en crear un window del mismo tamaño de la cadena que se quiere buscar, en este caso seria un window de 2.\\\n",
    "Se calcula el valor hash de el patron y de lo que se encuentre en la window, se compara el valor y en caso de que este sea diferente mueve a la window a la siguiente subcadena.\\\n",
    "Si se encuentra una situacion donde el valor hash de la subcadena en la window es igual al valor hash del patron, se compara caracter por caracter la subcadena con el patron hasta verificar que sea la  misma palabra.\n",
    "$$ $$\n",
    "Se puede dar el caso en que el valor hash del contenido de la window sea igual al valor hash del patron, pero las palabras no coinciden. Este tipo de situaciones incrementan la complejidad del algoritmo\n",
    "Para reducir la ocurrencia de esto, se usa el modulo de un numero primo"
   ]
  },
  {
   "cell_type": "code",
   "execution_count": 2,
   "id": "4ff72038",
   "metadata": {},
   "outputs": [],
   "source": [
    "d = 256\n",
    "@timer_func \n",
    "def RKAlgorithm(txt, palabra):\n",
    "    #array = []\n",
    "    M = len(palabra)\n",
    "    N = len(txt)\n",
    "    q = 101\n",
    "    hashPattern = 0\n",
    "    hashText = 0\n",
    "    h = 1\n",
    "    for i in range(M-1):\n",
    "        h = (h*d) % q\n",
    "\n",
    "    for i in range(M):#hash de palabra y primera window\n",
    "        hashPattern = (d*hashPattern + ord(palabra[i])) % q\n",
    "        hashText = (d*hashText + ord(txt[i])) % q\n",
    " \n",
    "    for i in range(N-M+1): #recorrer el texto\n",
    "        if hashPattern == hashText:#si tienen el mismo hash\n",
    "            for j in range(M):#comparacion caracter por caracter del substring en la window con la palabra\n",
    "                if txt[i+j] != palabra[j]:\n",
    "                    break\n",
    "                else:\n",
    "                    j += 1\n",
    "            #if j == M:\n",
    "             #   array.append(i)\n",
    " \n",
    "        if i < N-M:#hash de la siguiente ventana\n",
    "            hashText = (d*(hashText-ord(txt[i])*h) + ord(txt[i+M])) % q\n",
    "    #print(array)"
   ]
  },
  {
   "cell_type": "markdown",
   "id": "aacb229f",
   "metadata": {},
   "source": [
    "Probar el algoritmo"
   ]
  },
  {
   "cell_type": "code",
   "execution_count": 3,
   "id": "af77f914",
   "metadata": {},
   "outputs": [],
   "source": [
    "with open('huge_txt_example.txt','r') as file:\n",
    "    data = file.read()\n",
    "#data to lowercase\n",
    "data = data.lower()"
   ]
  },
  {
   "cell_type": "code",
   "execution_count": 8,
   "id": "6dd1d4de",
   "metadata": {},
   "outputs": [],
   "source": [
    "palabra = \"aliquam\"\n",
    "search = RKAlgorithm(data,palabra)"
   ]
  },
  {
   "cell_type": "markdown",
   "id": "b1a7b0aa",
   "metadata": {},
   "source": [
    "# RunTime"
   ]
  },
  {
   "cell_type": "code",
   "execution_count": 4,
   "id": "ed993713",
   "metadata": {},
   "outputs": [],
   "source": [
    "wordSearchList = ['dui','aliquam','habitant','neque','nunc','commodo','libero','nulla','sapien','suscipit','viverra','mauris','nibh','nisi','nisl','nunc','odio','orci','ornare','pellentesque','pharetra','placerat','porta','porttitor','posuere','potenti','praesent','pretium','proin','pulvinar','purus','quam','quis','quisque','rhoncus','risus','rutrum','sagittis','sapien','scelerisque','sed','sem','semper','senectus','sit','sociis','sociosqu','sodales','sollicitudin','suscipit','suspendisse','taciti','tellus','tempor','tempus','tincidunt','torquent','tortor','tristique','turpis','ullamcorper','ultrices','ultricies','urna','ut','varius','vehicula','vel','velit','venenatis','vestibulum','vitae','vivamus','viverra','volutpat','vulputate']"
   ]
  },
  {
   "cell_type": "code",
   "execution_count": 5,
   "id": "d2df4637",
   "metadata": {},
   "outputs": [],
   "source": [
    "runtime = []\n",
    "for i in wordSearchList:\n",
    "    search = RKAlgorithm(data,i)\n",
    "    runtime.append(search[1])\n"
   ]
  },
  {
   "cell_type": "code",
   "execution_count": null,
   "id": "5ac7cd41",
   "metadata": {},
   "outputs": [],
   "source": [
    "print(runtime)"
   ]
  },
  {
   "cell_type": "code",
   "execution_count": 6,
   "id": "be9339f7",
   "metadata": {},
   "outputs": [
    {
     "data": {
      "text/html": [
       "<div>\n",
       "<style scoped>\n",
       "    .dataframe tbody tr th:only-of-type {\n",
       "        vertical-align: middle;\n",
       "    }\n",
       "\n",
       "    .dataframe tbody tr th {\n",
       "        vertical-align: top;\n",
       "    }\n",
       "\n",
       "    .dataframe thead th {\n",
       "        text-align: right;\n",
       "    }\n",
       "</style>\n",
       "<table border=\"1\" class=\"dataframe\">\n",
       "  <thead>\n",
       "    <tr style=\"text-align: right;\">\n",
       "      <th></th>\n",
       "      <th>T(n) Rabin-Karp</th>\n",
       "    </tr>\n",
       "  </thead>\n",
       "  <tbody>\n",
       "    <tr>\n",
       "      <th>0</th>\n",
       "      <td>5.632969e+11</td>\n",
       "    </tr>\n",
       "    <tr>\n",
       "      <th>1</th>\n",
       "      <td>5.516621e+11</td>\n",
       "    </tr>\n",
       "    <tr>\n",
       "      <th>2</th>\n",
       "      <td>5.493849e+11</td>\n",
       "    </tr>\n",
       "    <tr>\n",
       "      <th>3</th>\n",
       "      <td>5.514597e+11</td>\n",
       "    </tr>\n",
       "    <tr>\n",
       "      <th>4</th>\n",
       "      <td>5.722069e+11</td>\n",
       "    </tr>\n",
       "    <tr>\n",
       "      <th>...</th>\n",
       "      <td>...</td>\n",
       "    </tr>\n",
       "    <tr>\n",
       "      <th>71</th>\n",
       "      <td>5.632762e+11</td>\n",
       "    </tr>\n",
       "    <tr>\n",
       "      <th>72</th>\n",
       "      <td>5.578810e+11</td>\n",
       "    </tr>\n",
       "    <tr>\n",
       "      <th>73</th>\n",
       "      <td>5.633687e+11</td>\n",
       "    </tr>\n",
       "    <tr>\n",
       "      <th>74</th>\n",
       "      <td>5.607389e+11</td>\n",
       "    </tr>\n",
       "    <tr>\n",
       "      <th>75</th>\n",
       "      <td>5.681387e+11</td>\n",
       "    </tr>\n",
       "  </tbody>\n",
       "</table>\n",
       "<p>76 rows × 1 columns</p>\n",
       "</div>"
      ],
      "text/plain": [
       "    T(n) Rabin-Karp\n",
       "0      5.632969e+11\n",
       "1      5.516621e+11\n",
       "2      5.493849e+11\n",
       "3      5.514597e+11\n",
       "4      5.722069e+11\n",
       "..              ...\n",
       "71     5.632762e+11\n",
       "72     5.578810e+11\n",
       "73     5.633687e+11\n",
       "74     5.607389e+11\n",
       "75     5.681387e+11\n",
       "\n",
       "[76 rows x 1 columns]"
      ]
     },
     "execution_count": 6,
     "metadata": {},
     "output_type": "execute_result"
    }
   ],
   "source": [
    "import pandas as pd\n",
    "import matplotlib.pyplot as plt\n",
    "df = pd.DataFrame(zip(runtime))  #DEFINE THE DATA FRAME\n",
    "df.columns = [ 'T(n) Rabin-Karp']\n",
    "df"
   ]
  },
  {
   "cell_type": "code",
   "execution_count": 7,
   "id": "f0bc4a07",
   "metadata": {},
   "outputs": [
    {
     "data": {
      "text/plain": [
       "<AxesSubplot:>"
      ]
     },
     "execution_count": 7,
     "metadata": {},
     "output_type": "execute_result"
    },
    {
     "data": {
      "image/png": "[encoded data removed]",
      "text/plain": [
       "<Figure size 640x480 with 1 Axes>"
      ]
     },
     "metadata": {},
     "output_type": "display_data"
    }
   ],
   "source": [
    "df.plot(y='T(n) Rabin-Karp')"
   ]
  },
  {
   "cell_type": "markdown",
   "id": "074f66eb",
   "metadata": {},
   "source": [
    "El peor caso O(nm) se da cuando el valor hash de cada substring en la window es igual al hash de la palabra que se esta buscando $$ txt= AAAAAAAAA$$ $$ palabra = AA $$\n",
    "El mejor caso, y el mas comun, es O(n+m), pues al encontrar dos hash iguales debe comparar la subsitring de la window con la de la palabra."
   ]
  }
 ],
 "metadata": {
  "kernelspec": {
   "display_name": "Python 3 (ipykernel)",
   "language": "python",
   "name": "python3"
  },
  "language_info": {
   "codemirror_mode": {
    "name": "ipython",
    "version": 3
   },
   "file_extension": ".py",
   "mimetype": "text/x-python",
   "name": "python",
   "nbconvert_exporter": "python",
   "pygments_lexer": "ipython3",
   "version": "3.9.12"
  }
 },
 "nbformat": 4,
 "nbformat_minor": 5
}
